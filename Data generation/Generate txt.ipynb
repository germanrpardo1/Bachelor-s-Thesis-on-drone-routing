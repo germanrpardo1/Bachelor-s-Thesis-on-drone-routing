{
 "cells": [
  {
   "cell_type": "code",
   "execution_count": 2,
   "id": "22193587",
   "metadata": {},
   "outputs": [],
   "source": [
    "# Define the grid dimensions\n",
    "GRID_SIZE = 10\n",
    "\n",
    "# Define the file path\n",
    "FILE_PATH = 'customers.txt'\n",
    "\n",
    "# Open the file in write mode\n",
    "with open(FILE_PATH, 'w') as f:\n",
    "    # Write the header row\n",
    "    f.write('CUST NO.\\tX COORD.\\tY COORD.\\n')\n",
    "    \n",
    "    # Write the depot (customer 0) coordinates\n",
    "    f.write(f'0\\t0\\t0\\n')\n",
    "    \n",
    "    # Write the remaining customer coordinates\n",
    "    for i in range(1, GRID_SIZE**2):\n",
    "        x_coord = i // GRID_SIZE\n",
    "        y_coord = i % GRID_SIZE\n",
    "        f.write(f'{i}\\t{x_coord}\\t{y_coord}\\n')\n"
   ]
  },
  {
   "cell_type": "code",
   "execution_count": null,
   "id": "ec3a7c84",
   "metadata": {},
   "outputs": [],
   "source": []
  }
 ],
 "metadata": {
  "kernelspec": {
   "display_name": "Python 3 (ipykernel)",
   "language": "python",
   "name": "python3"
  },
  "language_info": {
   "codemirror_mode": {
    "name": "ipython",
    "version": 3
   },
   "file_extension": ".py",
   "mimetype": "text/x-python",
   "name": "python",
   "nbconvert_exporter": "python",
   "pygments_lexer": "ipython3",
   "version": "3.9.7"
  }
 },
 "nbformat": 4,
 "nbformat_minor": 5
}
